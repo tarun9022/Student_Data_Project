{
 "cells": [
  {
   "cell_type": "code",
   "execution_count": 1,
   "id": "c97f1223-1ff7-455b-a986-2aa5bcbfa39d",
   "metadata": {},
   "outputs": [
    {
     "name": "stdout",
     "output_type": "stream",
     "text": [
      "Hello, Data Engineer!\n"
     ]
    }
   ],
   "source": [
    "print(\"Hello, Data Engineer!\")\n"
   ]
  },
  {
   "cell_type": "code",
   "execution_count": 3,
   "id": "34245937-2394-4222-b8b9-113ce43afc4e",
   "metadata": {},
   "outputs": [
    {
     "name": "stdout",
     "output_type": "stream",
     "text": [
      "    name  age    city\n",
      "0  Tarun   21   Udgir\n",
      "1  Sneha   22    Pune\n",
      "2   Ravi   23  Mumbai\n"
     ]
    }
   ],
   "source": [
    "import pandas as pd\n",
    "\n",
    "# CSV file read\n",
    "df = pd.read_csv(\"mydata.csv\")\n",
    "\n",
    "# 5 rows बघ\n",
    "print(df.head())\n"
   ]
  },
  {
   "cell_type": "code",
   "execution_count": 4,
   "id": "88b459c4-fa4b-4cbf-847f-fa99ea0c2805",
   "metadata": {},
   "outputs": [
    {
     "name": "stdout",
     "output_type": "stream",
     "text": [
      "    name  age    city  marks\n",
      "0  Tarun   21   Udgir     85\n",
      "1  Sneha   22    Pune     90\n",
      "2   Ravi   23  Mumbai     78\n",
      "Average Marks: 84.33333333333333\n"
     ]
    }
   ],
   "source": [
    "# Step 1: Add new column\n",
    "df['marks'] = [85, 90, 78]\n",
    "\n",
    "# Step 2: Show updated data\n",
    "print(df)\n",
    "\n",
    "# Step 3: Save new CSV\n",
    "df.to_csv(\"output.csv\", index=False)\n",
    "\n",
    "# Step 4: Show average marks\n",
    "print(\"Average Marks:\", df['marks'].mean())\n"
   ]
  },
  {
   "cell_type": "code",
   "execution_count": 5,
   "id": "88efff92-b522-4eed-ac08-0ef3fe97dc9d",
   "metadata": {},
   "outputs": [
    {
     "name": "stdout",
     "output_type": "stream",
     "text": [
      "    name  age    city  marks\n",
      "0  Tarun   21   Udgir     85\n",
      "1  Sneha   22    Pune     90\n",
      "2   Ravi   23  Mumbai     78\n"
     ]
    }
   ],
   "source": [
    "import pandas as pd\n",
    "\n",
    "# CSV read\n",
    "df = pd.read_csv(\"output.csv\")\n",
    "\n",
    "# Show data\n",
    "print(df)\n"
   ]
  },
  {
   "cell_type": "code",
   "execution_count": 6,
   "id": "a6e47746-937f-4827-af79-7b26dd92c7cb",
   "metadata": {},
   "outputs": [
    {
     "name": "stdout",
     "output_type": "stream",
     "text": [
      "    name    age   city  marks\n",
      "0  False  False  False  False\n",
      "1  False  False  False  False\n",
      "2  False  False  False  False\n",
      "name     0\n",
      "age      0\n",
      "city     0\n",
      "marks    0\n",
      "dtype: int64\n"
     ]
    }
   ],
   "source": [
    "print(df.isnull())          # कुठे Null आहे ते दाखवेल\n",
    "print(df.isnull().sum())    # प्रत्येक column मध्ये किती null आहेत ते दाखवेल\n"
   ]
  },
  {
   "cell_type": "code",
   "execution_count": 7,
   "id": "a14f61e4-d2b7-4fdf-bfce-2817892d6ffc",
   "metadata": {},
   "outputs": [
    {
     "name": "stdout",
     "output_type": "stream",
     "text": [
      "    name  age    city  marks\n",
      "1  Sneha   22    Pune     90\n",
      "2   Ravi   23  Mumbai     78\n"
     ]
    }
   ],
   "source": [
    "age_above_21 = df[df['age'] > 21]\n",
    "print(age_above_21)\n"
   ]
  },
  {
   "cell_type": "code",
   "execution_count": 8,
   "id": "bcfe2cbc-80a2-4ec9-be5c-919e46ea1e0a",
   "metadata": {},
   "outputs": [
    {
     "name": "stdout",
     "output_type": "stream",
     "text": [
      "    name  age    city  marks\n",
      "1  Sneha   22    Pune     90\n",
      "0  Tarun   21   Udgir     85\n",
      "2   Ravi   23  Mumbai     78\n"
     ]
    }
   ],
   "source": [
    "sorted_df = df.sort_values(by='marks', ascending=False)\n",
    "print(sorted_df)\n"
   ]
  },
  {
   "cell_type": "code",
   "execution_count": 9,
   "id": "49db87de-2bb7-4412-97c1-b955ee206df0",
   "metadata": {},
   "outputs": [
    {
     "name": "stdout",
     "output_type": "stream",
     "text": [
      "    name  age  marks\n",
      "0  Tarun   21     85\n",
      "1  Sneha   22     90\n",
      "2   Ravi   23     78\n"
     ]
    }
   ],
   "source": [
    "df_cleaned = df.drop(columns=['city'])\n",
    "print(df_cleaned)\n"
   ]
  },
  {
   "cell_type": "code",
   "execution_count": 13,
   "id": "989f296c-fb2f-46f9-960d-bd6f856a3062",
   "metadata": {},
   "outputs": [],
   "source": [
    "df_cleaned.to_csv(\"cleaned_data.csv\", index=False)\n"
   ]
  },
  {
   "cell_type": "code",
   "execution_count": 14,
   "id": "5f40dc50-4da1-4966-b8ae-841888ceecd3",
   "metadata": {},
   "outputs": [
    {
     "name": "stdout",
     "output_type": "stream",
     "text": [
      "Topper: Sneha\n"
     ]
    }
   ],
   "source": [
    "topper = df[df['marks'] == df['marks'].max()]\n",
    "print(\"Topper:\", topper['name'].values[0])\n"
   ]
  },
  {
   "cell_type": "code",
   "execution_count": 15,
   "id": "6d4183c9-6a5d-4588-927a-769a56948b7b",
   "metadata": {},
   "outputs": [
    {
     "name": "stderr",
     "output_type": "stream",
     "text": [
      "Matplotlib is building the font cache; this may take a moment.\n"
     ]
    },
    {
     "name": "stdout",
     "output_type": "stream",
     "text": [
      "    name  age  marks\n",
      "0  Tarun   21     85\n",
      "1  Sneha   22     90\n",
      "2   Ravi   23     78\n"
     ]
    }
   ],
   "source": [
    "import pandas as pd\n",
    "import matplotlib.pyplot as plt\n",
    "\n",
    "df = pd.read_csv(\"cleaned_data.csv\")\n",
    "print(df)\n"
   ]
  },
  {
   "cell_type": "code",
   "execution_count": 16,
   "id": "e21e795e-db55-4e7e-b741-dd50a6635839",
   "metadata": {},
   "outputs": [
    {
     "data": {
      "image/png": "[encoded data removed]",
      "text/plain": [
       "<Figure size 640x480 with 1 Axes>"
      ]
     },
     "metadata": {},
     "output_type": "display_data"
    }
   ],
   "source": [
    "plt.bar(df['name'], df['marks'], color='orange')\n",
    "plt.xlabel(\"Name\")\n",
    "plt.ylabel(\"Marks\")\n",
    "plt.title(\"Marks of Students\")\n",
    "plt.show()\n"
   ]
  },
  {
   "cell_type": "code",
   "execution_count": 17,
   "id": "e0e6ddea-1a42-4413-bebd-0bd4e886dd53",
   "metadata": {},
   "outputs": [
    {
     "data": {
      "image/png": "[encoded data removed]",
      "text/plain": [
       "<Figure size 640x480 with 1 Axes>"
      ]
     },
     "metadata": {},
     "output_type": "display_data"
    }
   ],
   "source": [
    "plt.pie(df['marks'], labels=df['name'], autopct=\"%0.1f%%\")\n",
    "plt.title(\"Marks Share\")\n",
    "plt.show()\n"
   ]
  },
  {
   "cell_type": "code",
   "execution_count": 18,
   "id": "a7a20a49-a340-47dd-92a8-18ec99872f6d",
   "metadata": {},
   "outputs": [
    {
     "data": {
      "image/png": "[encoded data removed]",
      "text/plain": [
       "<Figure size 640x480 with 1 Axes>"
      ]
     },
     "metadata": {},
     "output_type": "display_data"
    }
   ],
   "source": [
    "plt.hist(df['marks'], bins=5, color='green')\n",
    "plt.xlabel(\"Marks\")\n",
    "plt.ylabel(\"Frequency\")\n",
    "plt.title(\"Marks Distribution\")\n",
    "plt.show()\n"
   ]
  },
  {
   "cell_type": "code",
   "execution_count": 19,
   "id": "b4dd40f3-1ad7-434d-ae39-9a085bf555b1",
   "metadata": {},
   "outputs": [
    {
     "data": {
      "image/png": "[encoded data removed]",
      "text/plain": [
       "<Figure size 640x480 with 1 Axes>"
      ]
     },
     "metadata": {},
     "output_type": "display_data"
    }
   ],
   "source": [
    "df_sorted = df.sort_values(by='marks', ascending=False)\n",
    "plt.plot(df_sorted['name'], df_sorted['marks'], marker='o')\n",
    "plt.title(\"Topper Trend\")\n",
    "plt.xlabel(\"Name\")\n",
    "plt.ylabel(\"Marks\")\n",
    "plt.grid()\n",
    "plt.show()\n"
   ]
  },
  {
   "cell_type": "code",
   "execution_count": 20,
   "id": "7bc111a6-4600-432f-8458-f8d15cd4fcef",
   "metadata": {},
   "outputs": [
    {
     "name": "stdout",
     "output_type": "stream",
     "text": [
      "   student_id   name  age  marks    city\n",
      "0         101  Tarun   21     85   Udgir\n",
      "1         102  Sneha   22     90    Pune\n",
      "2         103   Ravi   23     78  Mumbai\n",
      "3         104  Pooja   20     88  Nashik\n"
     ]
    }
   ],
   "source": [
    "import pandas as pd\n",
    "\n",
    "data = {\n",
    "    'student_id': [101, 102, 103, 104],\n",
    "    'name': ['Tarun', 'Sneha', 'Ravi', 'Pooja'],\n",
    "    'age': [21, 22, 23, 20],\n",
    "    'marks': [85, 90, 78, 88],\n",
    "    'city': ['Udgir', 'Pune', 'Mumbai', 'Nashik']\n",
    "}\n",
    "\n",
    "df = pd.DataFrame(data)\n",
    "df.to_csv(\"students.csv\", index=False)\n",
    "print(df)\n"
   ]
  },
  {
   "cell_type": "code",
   "execution_count": 21,
   "id": "bda78526-1963-44a0-bbeb-cfd51602b4bd",
   "metadata": {},
   "outputs": [
    {
     "name": "stdout",
     "output_type": "stream",
     "text": [
      "city\n",
      "Mumbai    78.0\n",
      "Nashik    88.0\n",
      "Pune      90.0\n",
      "Udgir     85.0\n",
      "Name: marks, dtype: float64\n"
     ]
    }
   ],
   "source": [
    "df = pd.read_csv(\"students.csv\")\n",
    "avg_marks_city = df.groupby('city')['marks'].mean()\n",
    "print(avg_marks_city)\n"
   ]
  },
  {
   "cell_type": "code",
   "execution_count": 22,
   "id": "1a049541-81ea-41b2-8cd3-1c20d0417579",
   "metadata": {},
   "outputs": [
    {
     "name": "stdout",
     "output_type": "stream",
     "text": [
      "       marks           age\n",
      "        mean max min  mean\n",
      "city                      \n",
      "Mumbai  78.0  78  78  23.0\n",
      "Nashik  88.0  88  88  20.0\n",
      "Pune    90.0  90  90  22.0\n",
      "Udgir   85.0  85  85  21.0\n"
     ]
    }
   ],
   "source": [
    "stats = df.groupby('city').agg({\n",
    "    'marks': ['mean', 'max', 'min'],\n",
    "    'age': 'mean'\n",
    "})\n",
    "print(stats)\n"
   ]
  },
  {
   "cell_type": "code",
   "execution_count": 23,
   "id": "07b36032-070f-443d-b834-864ddc9c6014",
   "metadata": {},
   "outputs": [
    {
     "name": "stdout",
     "output_type": "stream",
     "text": [
      "   student_id grade\n",
      "0         101     A\n",
      "1         102    A+\n",
      "2         103     B\n",
      "3         104     A\n"
     ]
    }
   ],
   "source": [
    "grades_data = {\n",
    "    'student_id': [101, 102, 103, 104],\n",
    "    'grade': ['A', 'A+', 'B', 'A']\n",
    "}\n",
    "grades_df = pd.DataFrame(grades_data)\n",
    "grades_df.to_csv(\"grades.csv\", index=False)\n",
    "print(grades_df)\n"
   ]
  },
  {
   "cell_type": "code",
   "execution_count": 24,
   "id": "fe4b0ea5-56cd-4c96-82aa-4ed9a49ab96d",
   "metadata": {},
   "outputs": [
    {
     "name": "stdout",
     "output_type": "stream",
     "text": [
      "   student_id   name  age  marks    city grade\n",
      "0         101  Tarun   21     85   Udgir     A\n",
      "1         102  Sneha   22     90    Pune    A+\n",
      "2         103   Ravi   23     78  Mumbai     B\n",
      "3         104  Pooja   20     88  Nashik     A\n"
     ]
    }
   ],
   "source": [
    "merged = pd.merge(df, grades_df, on='student_id')\n",
    "print(merged)\n"
   ]
  },
  {
   "cell_type": "code",
   "execution_count": 25,
   "id": "96099a30-57ce-43e6-a3ab-11beedd4d9f9",
   "metadata": {},
   "outputs": [],
   "source": [
    "merged.to_csv(\"final_report.csv\", index=False)\n"
   ]
  },
  {
   "cell_type": "code",
   "execution_count": 26,
   "id": "fd73b138-3f51-4a58-a529-6999aff86e62",
   "metadata": {},
   "outputs": [
    {
     "name": "stdout",
     "output_type": "stream",
     "text": [
      "Data Inserted ✅\n"
     ]
    }
   ],
   "source": [
    "import sqlite3\n",
    "\n",
    "# SQLite database तयार करा\n",
    "conn = sqlite3.connect('students.db')\n",
    "cursor = conn.cursor()\n",
    "\n",
    "# Table तयार कर\n",
    "cursor.execute('''\n",
    "CREATE TABLE IF NOT EXISTS students (\n",
    "    id INTEGER PRIMARY KEY,\n",
    "    name TEXT,\n",
    "    age INTEGER,\n",
    "    marks INTEGER,\n",
    "    city TEXT\n",
    ")\n",
    "''')\n",
    "\n",
    "# Data insert कर\n",
    "cursor.executemany('''\n",
    "INSERT INTO students (id, name, age, marks, city) VALUES (?, ?, ?, ?, ?)\n",
    "''', [\n",
    "    (1, 'Tarun', 21, 85, 'Udgir'),\n",
    "    (2, 'Sneha', 22, 90, 'Pune'),\n",
    "    (3, 'Ravi', 23, 78, 'Mumbai'),\n",
    "    (4, 'Pooja', 20, 88, 'Nashik')\n",
    "])\n",
    "\n",
    "conn.commit()\n",
    "print(\"Data Inserted ✅\")\n"
   ]
  },
  {
   "cell_type": "code",
   "execution_count": 27,
   "id": "a020fe6c-3321-4fe3-9a52-6cb44f3bf02f",
   "metadata": {},
   "outputs": [
    {
     "name": "stdout",
     "output_type": "stream",
     "text": [
      "(1, 'Tarun', 21, 85, 'Udgir')\n",
      "(2, 'Sneha', 22, 90, 'Pune')\n",
      "(3, 'Ravi', 23, 78, 'Mumbai')\n",
      "(4, 'Pooja', 20, 88, 'Nashik')\n"
     ]
    }
   ],
   "source": [
    "cursor.execute(\"SELECT * FROM students\")\n",
    "for row in cursor.fetchall():\n",
    "    print(row)\n"
   ]
  },
  {
   "cell_type": "code",
   "execution_count": 28,
   "id": "c103c716-c015-49c5-bac3-87905695e390",
   "metadata": {},
   "outputs": [
    {
     "name": "stdout",
     "output_type": "stream",
     "text": [
      "[(2, 'Sneha', 22, 90, 'Pune')]\n"
     ]
    }
   ],
   "source": [
    "cursor.execute(\"SELECT * FROM students WHERE city = 'Pune'\")\n",
    "print(cursor.fetchall())\n"
   ]
  },
  {
   "cell_type": "code",
   "execution_count": 29,
   "id": "48d4f0c1-1bd1-43f7-8e48-73adb356ca3e",
   "metadata": {},
   "outputs": [
    {
     "name": "stdout",
     "output_type": "stream",
     "text": [
      "[('Mumbai', 78.0), ('Nashik', 88.0), ('Pune', 90.0), ('Udgir', 85.0)]\n"
     ]
    }
   ],
   "source": [
    "cursor.execute(\"SELECT city, AVG(marks) FROM students GROUP BY city\")\n",
    "print(cursor.fetchall())\n"
   ]
  },
  {
   "cell_type": "code",
   "execution_count": 30,
   "id": "d60db280-fcab-457e-b810-d705ba538fbb",
   "metadata": {},
   "outputs": [
    {
     "name": "stdout",
     "output_type": "stream",
     "text": [
      "[('Sneha', 90), ('Pooja', 88), ('Tarun', 85), ('Ravi', 78)]\n"
     ]
    }
   ],
   "source": [
    "cursor.execute(\"SELECT name, marks FROM students ORDER BY marks DESC\")\n",
    "print(cursor.fetchall())\n"
   ]
  },
  {
   "cell_type": "code",
   "execution_count": 31,
   "id": "11d763d9-a9aa-47cb-8198-bf13cdcf3e1b",
   "metadata": {},
   "outputs": [],
   "source": [
    "# Update marks\n",
    "cursor.execute(\"UPDATE students SET marks = 95 WHERE name = 'Tarun'\")\n",
    "conn.commit()\n",
    "\n",
    "# Delete student\n",
    "cursor.execute(\"DELETE FROM students WHERE name = 'Ravi'\")\n",
    "conn.commit()\n"
   ]
  },
  {
   "cell_type": "code",
   "execution_count": 32,
   "id": "9941082d-c537-48f1-a760-5cd821d6a295",
   "metadata": {},
   "outputs": [],
   "source": [
    "conn.close()\n"
   ]
  },
  {
   "cell_type": "code",
   "execution_count": 33,
   "id": "d26010cd-1d73-4ee9-8adc-ee162ecd3e13",
   "metadata": {},
   "outputs": [],
   "source": [
    "import pandas as pd\n",
    "\n",
    "data = {\n",
    "    'student_id': [101, 102, 103, 104, 105],\n",
    "    'name': ['Tarun', 'Sneha', 'Ravi', 'Pooja', 'Amit'],\n",
    "    'age': [21, 22, 23, 20, 22],\n",
    "    'marks': [85, 90, 78, 88, 91],\n",
    "    'city': ['Udgir', 'Pune', 'Mumbai', 'Nashik', 'Pune']\n",
    "}\n",
    "\n",
    "df = pd.DataFrame(data)\n",
    "df.to_csv(\"students.csv\", index=False)\n"
   ]
  },
  {
   "cell_type": "code",
   "execution_count": 34,
   "id": "9c717df8-047d-401b-b9dc-d0389e5306a6",
   "metadata": {},
   "outputs": [],
   "source": [
    "df = pd.read_csv(\"students.csv\")\n",
    "df['marks'] = df['marks'].fillna(0)\n",
    "df.to_csv(\"cleaned_students.csv\", index=False)\n"
   ]
  },
  {
   "cell_type": "code",
   "execution_count": 35,
   "id": "abf8d4fe-bd5e-4354-a2d8-789fd833335e",
   "metadata": {},
   "outputs": [
    {
     "data": {
      "text/plain": [
       "5"
      ]
     },
     "execution_count": 35,
     "metadata": {},
     "output_type": "execute_result"
    }
   ],
   "source": [
    "import sqlite3\n",
    "\n",
    "conn = sqlite3.connect('students.db')\n",
    "df.to_sql('students', conn, if_exists='replace', index=False)\n"
   ]
  },
  {
   "cell_type": "code",
   "execution_count": 36,
   "id": "4ee1acbb-ab8e-4338-b2eb-c800c6772d5a",
   "metadata": {},
   "outputs": [
    {
     "name": "stdout",
     "output_type": "stream",
     "text": [
      "Topper: ('Amit', 91)\n",
      "Pune Students: [(102, 'Sneha', 22, 90, 'Pune'), (105, 'Amit', 22, 91, 'Pune')]\n",
      "Average Marks by City: [('Mumbai', 78.0), ('Nashik', 88.0), ('Pune', 90.5), ('Udgir', 85.0)]\n"
     ]
    }
   ],
   "source": [
    "cursor = conn.cursor()\n",
    "\n",
    "# Topper\n",
    "cursor.execute(\"SELECT name, MAX(marks) FROM students\")\n",
    "print(\"Topper:\", cursor.fetchone())\n",
    "\n",
    "# Pune students\n",
    "cursor.execute(\"SELECT * FROM students WHERE city='Pune'\")\n",
    "print(\"Pune Students:\", cursor.fetchall())\n",
    "\n",
    "# Average marks per city\n",
    "cursor.execute(\"SELECT city, AVG(marks) FROM students GROUP BY city\")\n",
    "print(\"Average Marks by City:\", cursor.fetchall())\n"
   ]
  },
  {
   "cell_type": "code",
   "execution_count": 37,
   "id": "fb045019-1f79-4ec0-9740-32c55136cd1c",
   "metadata": {},
   "outputs": [],
   "source": [
    "report = pd.read_sql_query(\"SELECT name, city, marks FROM students ORDER BY marks DESC\", conn)\n",
    "report.to_csv(\"final_report.csv\", index=False)\n"
   ]
  },
  {
   "cell_type": "code",
   "execution_count": 1,
   "id": "509e79b4-50d7-4deb-bda5-b86c22cb8e14",
   "metadata": {},
   "outputs": [
    {
     "name": "stdout",
     "output_type": "stream",
     "text": [
      "   student_id   name  age  marks    city\n",
      "0         101  Tarun   21     85   Udgir\n",
      "1         102  Sneha   22     90    Pune\n",
      "2         103   Ravi   23     78  Mumbai\n",
      "3         104  Pooja   20     88  Nashik\n",
      "4         105   Amit   22     91    Pune\n",
      "<class 'pandas.core.frame.DataFrame'>\n",
      "RangeIndex: 5 entries, 0 to 4\n",
      "Data columns (total 5 columns):\n",
      " #   Column      Non-Null Count  Dtype \n",
      "---  ------      --------------  ----- \n",
      " 0   student_id  5 non-null      int64 \n",
      " 1   name        5 non-null      object\n",
      " 2   age         5 non-null      int64 \n",
      " 3   marks       5 non-null      int64 \n",
      " 4   city        5 non-null      object\n",
      "dtypes: int64(3), object(2)\n",
      "memory usage: 332.0+ bytes\n",
      "None\n",
      "       student_id        age     marks\n",
      "count    5.000000   5.000000   5.00000\n",
      "mean   103.000000  21.600000  86.40000\n",
      "std      1.581139   1.140175   5.22494\n",
      "min    101.000000  20.000000  78.00000\n",
      "25%    102.000000  21.000000  85.00000\n",
      "50%    103.000000  22.000000  88.00000\n",
      "75%    104.000000  22.000000  90.00000\n",
      "max    105.000000  23.000000  91.00000\n"
     ]
    }
   ],
   "source": [
    "import pandas as pd\n",
    "\n",
    "df = pd.read_csv(\"students.csv\")\n",
    "print(df.head())\n",
    "print(df.info())\n",
    "print(df.describe())\n"
   ]
  },
  {
   "cell_type": "code",
   "execution_count": 2,
   "id": "3abfd9e1-5b99-46d9-8fea-9d5308e145d0",
   "metadata": {},
   "outputs": [
    {
     "name": "stdout",
     "output_type": "stream",
     "text": [
      "['Udgir' 'Pune' 'Mumbai' 'Nashik']\n",
      "city\n",
      "Pune      2\n",
      "Udgir     1\n",
      "Mumbai    1\n",
      "Nashik    1\n",
      "Name: count, dtype: int64\n"
     ]
    }
   ],
   "source": [
    "print(df['city'].unique())\n",
    "print(df['city'].value_counts())\n"
   ]
  },
  {
   "cell_type": "code",
   "execution_count": 3,
   "id": "844f45d2-99cc-4b9e-b28f-c71a9cd0c5ae",
   "metadata": {},
   "outputs": [
    {
     "name": "stdout",
     "output_type": "stream",
     "text": [
      "student_id    0\n",
      "name          0\n",
      "age           0\n",
      "marks         0\n",
      "city          0\n",
      "dtype: int64\n",
      "0\n"
     ]
    }
   ],
   "source": [
    "print(df.isnull().sum())        # Null किती आहेत ते बघ\n",
    "print(df.duplicated().sum())    # Duplicate rows count\n"
   ]
  },
  {
   "cell_type": "code",
   "execution_count": 4,
   "id": "5c23c5db-0e10-44f1-a2ce-b371d0ffa7a1",
   "metadata": {},
   "outputs": [
    {
     "name": "stdout",
     "output_type": "stream",
     "text": [
      "Average Age: 21.6\n",
      "Median Age: 22.0\n",
      "Minimum Marks: 78\n",
      "Maximum Marks: 91\n"
     ]
    }
   ],
   "source": [
    "print(\"Average Age:\", df['age'].mean())\n",
    "print(\"Median Age:\", df['age'].median())\n",
    "print(\"Minimum Marks:\", df['marks'].min())\n",
    "print(\"Maximum Marks:\", df['marks'].max())\n"
   ]
  },
  {
   "cell_type": "code",
   "execution_count": 5,
   "id": "b5671229-302b-46c9-9199-3dc6f2548812",
   "metadata": {},
   "outputs": [],
   "source": [
    "df_cleaned = df.drop_duplicates()\n",
    "df_cleaned.to_csv(\"cleaned_students.csv\", index=False)\n"
   ]
  },
  {
   "cell_type": "code",
   "execution_count": 6,
   "id": "763aba60-ec4f-43aa-bd9b-ce36f7673b70",
   "metadata": {},
   "outputs": [],
   "source": [
    "import pandas as pd\n",
    "import matplotlib.pyplot as plt\n",
    "import seaborn as sns\n",
    "\n",
    "df = pd.read_csv(\"cleaned_students.csv\")\n"
   ]
  },
  {
   "cell_type": "code",
   "execution_count": 7,
   "id": "3dc4c1d9-de97-4f35-98f5-4a2a5d21abb6",
   "metadata": {},
   "outputs": [
    {
     "data": {
      "image/png": "[encoded data removed]",
      "text/plain": [
       "<Figure size 640x480 with 1 Axes>"
      ]
     },
     "metadata": {},
     "output_type": "display_data"
    }
   ],
   "source": [
    "city_counts = df['city'].value_counts()\n",
    "city_counts.plot(kind='bar', title='Students per City')\n",
    "plt.xlabel('City')\n",
    "plt.ylabel('Number of Students')\n",
    "plt.show()\n"
   ]
  },
  {
   "cell_type": "code",
   "execution_count": 8,
   "id": "b00540e7-a538-4fb4-803d-f43d226588ad",
   "metadata": {},
   "outputs": [
    {
     "data": {
      "image/png": "[encoded data removed]",
      "text/plain": [
       "<Figure size 640x480 with 1 Axes>"
      ]
     },
     "metadata": {},
     "output_type": "display_data"
    }
   ],
   "source": [
    "plt.hist(df['age'], bins=8, color='skyblue', edgecolor='black')\n",
    "plt.title('Age Distribution')\n",
    "plt.xlabel('Age')\n",
    "plt.ylabel('Frequency')\n",
    "plt.show()\n"
   ]
  },
  {
   "cell_type": "code",
   "execution_count": 9,
   "id": "657e0e1b-5ed4-49d2-956e-2a70b5a963e1",
   "metadata": {},
   "outputs": [
    {
     "data": {
      "image/png": "[encoded data removed]",
      "text/plain": [
       "<Figure size 640x480 with 1 Axes>"
      ]
     },
     "metadata": {},
     "output_type": "display_data"
    }
   ],
   "source": [
    "sns.boxplot(x=df['marks'])\n",
    "plt.title('Marks Distribution (Boxplot)')\n",
    "plt.show()\n"
   ]
  },
  {
   "cell_type": "code",
   "execution_count": 10,
   "id": "d64a05f5-60a9-47bc-934b-334fcdb075d7",
   "metadata": {},
   "outputs": [
    {
     "data": {
      "image/png": "[encoded data removed]",
      "text/plain": [
       "<Figure size 640x480 with 1 Axes>"
      ]
     },
     "metadata": {},
     "output_type": "display_data"
    }
   ],
   "source": [
    "plt.scatter(df['age'], df['marks'], color='green')\n",
    "plt.title('Age vs Marks')\n",
    "plt.xlabel('Age')\n",
    "plt.ylabel('Marks')\n",
    "plt.grid(True)\n",
    "plt.show()\n"
   ]
  },
  {
   "cell_type": "code",
   "execution_count": 11,
   "id": "a9f40be5-03a4-4ef9-ae04-1467dfa9d38b",
   "metadata": {},
   "outputs": [],
   "source": [
    "import sqlite3\n",
    "import pandas as pd\n"
   ]
  },
  {
   "cell_type": "code",
   "execution_count": 12,
   "id": "c7569e65-0078-4d85-a0ec-c7f988fbd018",
   "metadata": {},
   "outputs": [],
   "source": [
    "df = pd.read_csv(\"cleaned_students.csv\")\n"
   ]
  },
  {
   "cell_type": "code",
   "execution_count": 13,
   "id": "58f8f8d8-b310-4687-9863-ebc0aaf36b15",
   "metadata": {},
   "outputs": [],
   "source": [
    "conn = sqlite3.connect(\"students.db\")  # Database file create होईल\n",
    "cursor = conn.cursor()\n"
   ]
  },
  {
   "cell_type": "code",
   "execution_count": 14,
   "id": "630cf6cb-0700-4008-9941-2ebb00ddca19",
   "metadata": {},
   "outputs": [],
   "source": [
    "cursor.execute('''\n",
    "CREATE TABLE IF NOT EXISTS students (\n",
    "    name TEXT,\n",
    "    age INTEGER,\n",
    "    city TEXT,\n",
    "    marks INTEGER\n",
    ")\n",
    "''')\n",
    "conn.commit()\n"
   ]
  },
  {
   "cell_type": "code",
   "execution_count": 15,
   "id": "a6a474c2-67af-439f-8589-1b511fd2bbbb",
   "metadata": {},
   "outputs": [
    {
     "data": {
      "text/plain": [
       "5"
      ]
     },
     "execution_count": 15,
     "metadata": {},
     "output_type": "execute_result"
    }
   ],
   "source": [
    "df.to_sql('students', conn, if_exists='replace', index=False)\n"
   ]
  },
  {
   "cell_type": "code",
   "execution_count": 16,
   "id": "0d0019c4-b62f-4009-989f-4751471f7ff7",
   "metadata": {},
   "outputs": [
    {
     "name": "stdout",
     "output_type": "stream",
     "text": [
      "(101, 'Tarun', 21, 85, 'Udgir')\n",
      "(102, 'Sneha', 22, 90, 'Pune')\n",
      "(103, 'Ravi', 23, 78, 'Mumbai')\n",
      "(104, 'Pooja', 20, 88, 'Nashik')\n",
      "(105, 'Amit', 22, 91, 'Pune')\n"
     ]
    }
   ],
   "source": [
    "cursor.execute(\"SELECT * FROM students LIMIT 5\")\n",
    "rows = cursor.fetchall()\n",
    "for row in rows:\n",
    "    print(row)\n"
   ]
  },
  {
   "cell_type": "code",
   "execution_count": 17,
   "id": "eb37ad46-26c0-41f7-824c-83b60bf4db8b",
   "metadata": {},
   "outputs": [],
   "source": [
    "conn.commit()\n",
    "conn.close()\n"
   ]
  },
  {
   "cell_type": "code",
   "execution_count": null,
   "id": "6c22097d-5b6a-4c91-8e45-3cc6de283f3b",
   "metadata": {},
   "outputs": [],
   "source": [
    "# Student Data Analysis Project 📊\n",
    "\n",
    "## 🔍 Overview:\n",
    "This project performs end-to-end analysis of student data using:\n",
    "- Pandas for data cleaning\n",
    "- Matplotlib / Seaborn for visualization\n",
    "- SQLite for database storage\n",
    "- Jupyter Notebook for implementation\n",
    "\n",
    "## 📁 Files Included:\n",
    "- `students.csv` – Raw data\n",
    "- `cleaned_students.csv` – Cleaned data\n",
    "- `final_report.csv` – Final summarized report\n",
    "- `students.db` – SQLite database\n",
    "- `student_analysis_project.ipynb` – Jupyter notebook (Main code)\n",
    "\n",
    "## 👨‍💻 Skills Demonstrated:\n",
    "- Data Cleaning\n",
    "- EDA (Exploratory Data Analysis)\n",
    "- Data Visualization\n",
    "- SQL Integration with Python\n"
   ]
  }
 ],
 "metadata": {
  "kernelspec": {
   "display_name": "Python 3 (ipykernel)",
   "language": "python",
   "name": "python3"
  },
  "language_info": {
   "codemirror_mode": {
    "name": "ipython",
    "version": 3
   },
   "file_extension": ".py",
   "mimetype": "text/x-python",
   "name": "python",
   "nbconvert_exporter": "python",
   "pygments_lexer": "ipython3",
   "version": "3.12.1"
  }
 },
 "nbformat": 4,
 "nbformat_minor": 5
}
